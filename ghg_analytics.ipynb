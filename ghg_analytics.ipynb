{
 "cells": [
  {
   "cell_type": "markdown",
   "metadata": {
    "colab_type": "text",
    "id": "CSzetozGBCVj"
   },
   "source": [
    "# ghg_analytics\n",
    "## Insights into trends with global greenhouse gases and climate change action.\n",
    "\n",
    "EPA1333 – Computer Engineering for Scientific Computing Final Project\n",
    "\n",
    "### Authors\n",
    "Group 6:\n",
    "* Aashna Mittal\n",
    "* Gamze Ünlü\n",
    "* Jason R Wang"
   ]
  },
  {
   "cell_type": "markdown",
   "metadata": {},
   "source": [
    "## Introduction\n",
    "\n",
    "Anthropogenic climate change was first introduced into the global political arena as the United Nations Framework on Climate Change Convention (UNFCCC) in 1992. Since then, other international agreements have continued to refine mitigation action.\n",
    "\n",
    "At 19th Conference of the Parties (to the UNFCCC) in 2013 in Warsaw, the UNFCCC members agreed to submit \"Intended Nationally Determined Contributions\" (INDCs) to signal what each country's greenhouse gas emission targets would be. At the 21st Conference in 2015, the Paris Agreement formalized these _intended_ emissions into simply \"Nationally Determined Contributions\" (NDCs).\n",
    "\n",
    "Furthermore, the signatories to the Paris Agreement (which includes all UNFCCC signatories, and therefore, all UN member nations) have agreed to maintain global warming to 2ºC, but preferrably 1.5ºC, above pre-industrial levels. This Notebook intends to analyze the NDCs to estimate their potential to reach these temperature goals."
   ]
  },
  {
   "cell_type": "code",
   "execution_count": 3,
   "metadata": {
    "colab": {},
    "colab_type": "code",
    "id": "NNIfc0niBh3b"
   },
   "outputs": [],
   "source": [
    "# Library imports\n",
    "import numpy as np\n",
    "import pandas as pd\n",
    "import matplotlib.pyplot as plt\n",
    "from numpy import NaN\n",
    "plt.style.use('ggplot')"
   ]
  },
  {
   "cell_type": "markdown",
   "metadata": {},
   "source": [
    "## 1. NDCs and Temperature Targets"
   ]
  },
  {
   "cell_type": "markdown",
   "metadata": {},
   "source": [
    "To determine the impact of NDCs, we need to first understand their context by answering the following questions:\n",
    "1. What do global emissions look like today?\n",
    "2. If nothing changes, and the world continues doing _business as usual_ (BAU), how will the world look like in 2030?\n",
    "\n",
    "Then, we can examine how NDCs compare:\n",
    "3. If all NDCs are met, what will the total amount of emissions be?\n",
    "4. What emission amounts are required to meet temperature targets?\n",
    "\n",
    "Finally, all of this will be compared in 1.5.\n",
    "\n",
    "_Note: Emissions are quantified in units of 'megatons of carbon dioxide-equivalent per year' [MtCO2e/yr] because the strength all greenhouse gases are measured relative to carbon dioxide and because the carbon cycle is a process. Global climate targets assume that natural GHG uptake will continue steadily, so reducing the rate of emissions from countries will lead to a net decrease in the concentration of GHGs in the atmosphere._"
   ]
  },
  {
   "cell_type": "markdown",
   "metadata": {},
   "source": [
    "### 1.1 Current Greenhouse Gas Emissions\n",
    "\n",
    "The World Bank and the World Resources Institute both maintain databases of current GHG emissions. The primary data source is from the UNFCCC's reporting window; each UNFCCC member submits annual 'GHG Inventories', which track national emissions with two-year delay."
   ]
  },
  {
   "cell_type": "markdown",
   "metadata": {},
   "source": [
    "First examine WB data, which holds GHGs in ktCO2e.\n",
    "    \n",
    "Source: https://data.worldbank.org/indicator/EN.ATM.GHGT.KT.CE?view=chart\n",
    "(Is this true, Aashna? Yes!) - Jason"
   ]
  },
  {
   "cell_type": "code",
   "execution_count": 4,
   "metadata": {
    "scrolled": false
   },
   "outputs": [],
   "source": [
    "# Import World Bank data on GHGs\n",
    "ghgDf_WBoriginal = pd.read_csv(\"data/GreenhouseGasData.csv\", sep=',', skipinitialspace=True, skiprows=4) \n",
    "\n",
    "# Drop the indicator name and indicator code as the values are same across the whole dataframe\n",
    "ghgDf_WB = ghgDf_WBoriginal.drop([\"Indicator Code\", \"Indicator Name\"], axis = 1)\n",
    "\n",
    "# Drop all the columns that contain only null values\n",
    "ghgDf_WB.dropna(axis = 1, how=\"all\", inplace=True)  \n",
    "\n",
    "# Drop all the rows that contain only null values, starting from column 2\n",
    "ghgDf_WB.dropna(axis = 0, how=\"all\", subset = ghgDf_WB.columns[2:], inplace= True)  \n",
    "\n",
    "# Interpolate missing values and then use backfill to fill starting NA values of a row\n",
    "ghgDf_WB.iloc[:,2:] = ghgDf_WB.iloc[:,2:].interpolate(axis = 1).bfill(axis=1)\n",
    "\n",
    "# Convert all emissions data into MtCO2e\n",
    "ghgDf_WB.iloc[:,2:] = ghgDf_WB.iloc[:,2:].divide(1000)"
   ]
  },
  {
   "cell_type": "code",
   "execution_count": 45,
   "metadata": {},
   "outputs": [
    {
     "data": {
      "text/html": [
       "<div>\n",
       "<style scoped>\n",
       "    .dataframe tbody tr th:only-of-type {\n",
       "        vertical-align: middle;\n",
       "    }\n",
       "\n",
       "    .dataframe tbody tr th {\n",
       "        vertical-align: top;\n",
       "    }\n",
       "\n",
       "    .dataframe thead th {\n",
       "        text-align: right;\n",
       "    }\n",
       "</style>\n",
       "<table border=\"1\" class=\"dataframe\">\n",
       "  <thead>\n",
       "    <tr style=\"text-align: right;\">\n",
       "      <th></th>\n",
       "      <th>Country Name</th>\n",
       "      <th>Country Code</th>\n",
       "      <th>1970</th>\n",
       "      <th>1971</th>\n",
       "      <th>1972</th>\n",
       "      <th>1973</th>\n",
       "      <th>1974</th>\n",
       "      <th>1975</th>\n",
       "      <th>1976</th>\n",
       "      <th>1977</th>\n",
       "      <th>...</th>\n",
       "      <th>2003</th>\n",
       "      <th>2004</th>\n",
       "      <th>2005</th>\n",
       "      <th>2006</th>\n",
       "      <th>2007</th>\n",
       "      <th>2008</th>\n",
       "      <th>2009</th>\n",
       "      <th>2010</th>\n",
       "      <th>2011</th>\n",
       "      <th>2012</th>\n",
       "    </tr>\n",
       "  </thead>\n",
       "  <tbody>\n",
       "    <tr>\n",
       "      <th>0</th>\n",
       "      <td>Aruba</td>\n",
       "      <td>ABW</td>\n",
       "      <td>0.042306</td>\n",
       "      <td>0.042787</td>\n",
       "      <td>0.043287</td>\n",
       "      <td>0.043725</td>\n",
       "      <td>0.044131</td>\n",
       "      <td>0.044482</td>\n",
       "      <td>0.131634</td>\n",
       "      <td>0.135055</td>\n",
       "      <td>...</td>\n",
       "      <td>0.616929</td>\n",
       "      <td>0.616929</td>\n",
       "      <td>0.616929</td>\n",
       "      <td>0.616929</td>\n",
       "      <td>0.616929</td>\n",
       "      <td>0.616929</td>\n",
       "      <td>0.616929</td>\n",
       "      <td>0.616929</td>\n",
       "      <td>0.616929</td>\n",
       "      <td>0.616929</td>\n",
       "    </tr>\n",
       "    <tr>\n",
       "      <th>1</th>\n",
       "      <td>Afghanistan</td>\n",
       "      <td>AFG</td>\n",
       "      <td>14.306616</td>\n",
       "      <td>14.391778</td>\n",
       "      <td>13.040848</td>\n",
       "      <td>13.535754</td>\n",
       "      <td>14.945968</td>\n",
       "      <td>14.574164</td>\n",
       "      <td>14.746851</td>\n",
       "      <td>15.247281</td>\n",
       "      <td>...</td>\n",
       "      <td>14.709884</td>\n",
       "      <td>14.654374</td>\n",
       "      <td>14.770264</td>\n",
       "      <td>14.849159</td>\n",
       "      <td>15.272633</td>\n",
       "      <td>15.288776</td>\n",
       "      <td>15.554429</td>\n",
       "      <td>17.791330</td>\n",
       "      <td>17.981307</td>\n",
       "      <td>18.168860</td>\n",
       "    </tr>\n",
       "    <tr>\n",
       "      <th>2</th>\n",
       "      <td>Angola</td>\n",
       "      <td>AGO</td>\n",
       "      <td>60.648601</td>\n",
       "      <td>39.162171</td>\n",
       "      <td>42.205651</td>\n",
       "      <td>44.252669</td>\n",
       "      <td>40.179234</td>\n",
       "      <td>44.429300</td>\n",
       "      <td>38.448024</td>\n",
       "      <td>43.563412</td>\n",
       "      <td>...</td>\n",
       "      <td>35.858015</td>\n",
       "      <td>36.860233</td>\n",
       "      <td>35.855738</td>\n",
       "      <td>36.375822</td>\n",
       "      <td>36.690534</td>\n",
       "      <td>37.396294</td>\n",
       "      <td>38.309465</td>\n",
       "      <td>40.029392</td>\n",
       "      <td>40.878652</td>\n",
       "      <td>41.657165</td>\n",
       "    </tr>\n",
       "    <tr>\n",
       "      <th>3</th>\n",
       "      <td>Albania</td>\n",
       "      <td>ALB</td>\n",
       "      <td>6.960868</td>\n",
       "      <td>6.950036</td>\n",
       "      <td>7.613266</td>\n",
       "      <td>7.348492</td>\n",
       "      <td>7.632664</td>\n",
       "      <td>7.873037</td>\n",
       "      <td>8.470978</td>\n",
       "      <td>8.948981</td>\n",
       "      <td>...</td>\n",
       "      <td>7.834016</td>\n",
       "      <td>7.401102</td>\n",
       "      <td>8.308386</td>\n",
       "      <td>8.027150</td>\n",
       "      <td>9.879394</td>\n",
       "      <td>8.136785</td>\n",
       "      <td>8.108812</td>\n",
       "      <td>8.506996</td>\n",
       "      <td>8.712296</td>\n",
       "      <td>8.898641</td>\n",
       "    </tr>\n",
       "    <tr>\n",
       "      <th>5</th>\n",
       "      <td>Arab World</td>\n",
       "      <td>ARB</td>\n",
       "      <td>552.362062</td>\n",
       "      <td>576.946152</td>\n",
       "      <td>625.015944</td>\n",
       "      <td>699.280217</td>\n",
       "      <td>679.448006</td>\n",
       "      <td>683.966235</td>\n",
       "      <td>775.863730</td>\n",
       "      <td>799.971041</td>\n",
       "      <td>...</td>\n",
       "      <td>1963.193015</td>\n",
       "      <td>1660.586949</td>\n",
       "      <td>1767.878645</td>\n",
       "      <td>1731.288792</td>\n",
       "      <td>2355.481347</td>\n",
       "      <td>2364.088663</td>\n",
       "      <td>2387.502011</td>\n",
       "      <td>1924.244973</td>\n",
       "      <td>2483.349104</td>\n",
       "      <td>1908.696042</td>\n",
       "    </tr>\n",
       "  </tbody>\n",
       "</table>\n",
       "<p>5 rows × 45 columns</p>\n",
       "</div>"
      ],
      "text/plain": [
       "  Country Name Country Code        1970        1971        1972        1973  \\\n",
       "0        Aruba          ABW    0.042306    0.042787    0.043287    0.043725   \n",
       "1  Afghanistan          AFG   14.306616   14.391778   13.040848   13.535754   \n",
       "2       Angola          AGO   60.648601   39.162171   42.205651   44.252669   \n",
       "3      Albania          ALB    6.960868    6.950036    7.613266    7.348492   \n",
       "5   Arab World          ARB  552.362062  576.946152  625.015944  699.280217   \n",
       "\n",
       "         1974        1975        1976        1977     ...              2003  \\\n",
       "0    0.044131    0.044482    0.131634    0.135055     ...          0.616929   \n",
       "1   14.945968   14.574164   14.746851   15.247281     ...         14.709884   \n",
       "2   40.179234   44.429300   38.448024   43.563412     ...         35.858015   \n",
       "3    7.632664    7.873037    8.470978    8.948981     ...          7.834016   \n",
       "5  679.448006  683.966235  775.863730  799.971041     ...       1963.193015   \n",
       "\n",
       "          2004         2005         2006         2007         2008  \\\n",
       "0     0.616929     0.616929     0.616929     0.616929     0.616929   \n",
       "1    14.654374    14.770264    14.849159    15.272633    15.288776   \n",
       "2    36.860233    35.855738    36.375822    36.690534    37.396294   \n",
       "3     7.401102     8.308386     8.027150     9.879394     8.136785   \n",
       "5  1660.586949  1767.878645  1731.288792  2355.481347  2364.088663   \n",
       "\n",
       "          2009         2010         2011         2012  \n",
       "0     0.616929     0.616929     0.616929     0.616929  \n",
       "1    15.554429    17.791330    17.981307    18.168860  \n",
       "2    38.309465    40.029392    40.878652    41.657165  \n",
       "3     8.108812     8.506996     8.712296     8.898641  \n",
       "5  2387.502011  1924.244973  2483.349104  1908.696042  \n",
       "\n",
       "[5 rows x 45 columns]"
      ]
     },
     "execution_count": 45,
     "metadata": {},
     "output_type": "execute_result"
    }
   ],
   "source": [
    "# View the cleaned WB GHG DataFrame\n",
    "ghgDf_WB.head()"
   ]
  },
  {
   "cell_type": "code",
   "execution_count": 6,
   "metadata": {},
   "outputs": [
    {
     "data": {
      "text/plain": [
       "257    53526.302828\n",
       "Name: 2012, dtype: float64"
      ]
     },
     "execution_count": 6,
     "metadata": {},
     "output_type": "execute_result"
    }
   ],
   "source": [
    "ghgDf_WB[ ghgDf_WB['Country Name'] == 'World' ]['2012']"
   ]
  },
  {
   "cell_type": "markdown",
   "metadata": {},
   "source": [
    "### Create Comparison for Country Group Codes and Names\n",
    "The greenhouse gas database provided by the World Bank contains a lot of country aggregates such as middle-income countries, low-income countries, etc. For further analysis, we import another dataset that provides a list of these aggregate country codes to provide an index for subsetting and creating a separate dataframe that only contains country data.  "
   ]
  },
  {
   "cell_type": "code",
   "execution_count": 52,
   "metadata": {},
   "outputs": [
    {
     "data": {
      "text/html": [
       "<div>\n",
       "<style scoped>\n",
       "    .dataframe tbody tr th:only-of-type {\n",
       "        vertical-align: middle;\n",
       "    }\n",
       "\n",
       "    .dataframe tbody tr th {\n",
       "        vertical-align: top;\n",
       "    }\n",
       "\n",
       "    .dataframe thead th {\n",
       "        text-align: right;\n",
       "    }\n",
       "</style>\n",
       "<table border=\"1\" class=\"dataframe\">\n",
       "  <thead>\n",
       "    <tr style=\"text-align: right;\">\n",
       "      <th></th>\n",
       "      <th>Country Name</th>\n",
       "      <th>Country Code</th>\n",
       "      <th>1970</th>\n",
       "      <th>1971</th>\n",
       "      <th>1972</th>\n",
       "      <th>1973</th>\n",
       "      <th>1974</th>\n",
       "      <th>1975</th>\n",
       "      <th>1976</th>\n",
       "      <th>1977</th>\n",
       "      <th>...</th>\n",
       "      <th>2003</th>\n",
       "      <th>2004</th>\n",
       "      <th>2005</th>\n",
       "      <th>2006</th>\n",
       "      <th>2007</th>\n",
       "      <th>2008</th>\n",
       "      <th>2009</th>\n",
       "      <th>2010</th>\n",
       "      <th>2011</th>\n",
       "      <th>2012</th>\n",
       "    </tr>\n",
       "  </thead>\n",
       "  <tbody>\n",
       "    <tr>\n",
       "      <th>0</th>\n",
       "      <td>Aruba</td>\n",
       "      <td>ABW</td>\n",
       "      <td>0.042306</td>\n",
       "      <td>0.042787</td>\n",
       "      <td>0.043287</td>\n",
       "      <td>0.043725</td>\n",
       "      <td>0.044131</td>\n",
       "      <td>0.044482</td>\n",
       "      <td>0.131634</td>\n",
       "      <td>0.135055</td>\n",
       "      <td>...</td>\n",
       "      <td>0.616929</td>\n",
       "      <td>0.616929</td>\n",
       "      <td>0.616929</td>\n",
       "      <td>0.616929</td>\n",
       "      <td>0.616929</td>\n",
       "      <td>0.616929</td>\n",
       "      <td>0.616929</td>\n",
       "      <td>0.616929</td>\n",
       "      <td>0.616929</td>\n",
       "      <td>0.616929</td>\n",
       "    </tr>\n",
       "    <tr>\n",
       "      <th>1</th>\n",
       "      <td>Afghanistan</td>\n",
       "      <td>AFG</td>\n",
       "      <td>14.306616</td>\n",
       "      <td>14.391778</td>\n",
       "      <td>13.040848</td>\n",
       "      <td>13.535754</td>\n",
       "      <td>14.945968</td>\n",
       "      <td>14.574164</td>\n",
       "      <td>14.746851</td>\n",
       "      <td>15.247281</td>\n",
       "      <td>...</td>\n",
       "      <td>14.709884</td>\n",
       "      <td>14.654374</td>\n",
       "      <td>14.770264</td>\n",
       "      <td>14.849159</td>\n",
       "      <td>15.272633</td>\n",
       "      <td>15.288776</td>\n",
       "      <td>15.554429</td>\n",
       "      <td>17.791330</td>\n",
       "      <td>17.981307</td>\n",
       "      <td>18.168860</td>\n",
       "    </tr>\n",
       "    <tr>\n",
       "      <th>2</th>\n",
       "      <td>Angola</td>\n",
       "      <td>AGO</td>\n",
       "      <td>60.648601</td>\n",
       "      <td>39.162171</td>\n",
       "      <td>42.205651</td>\n",
       "      <td>44.252669</td>\n",
       "      <td>40.179234</td>\n",
       "      <td>44.429300</td>\n",
       "      <td>38.448024</td>\n",
       "      <td>43.563412</td>\n",
       "      <td>...</td>\n",
       "      <td>35.858015</td>\n",
       "      <td>36.860233</td>\n",
       "      <td>35.855738</td>\n",
       "      <td>36.375822</td>\n",
       "      <td>36.690534</td>\n",
       "      <td>37.396294</td>\n",
       "      <td>38.309465</td>\n",
       "      <td>40.029392</td>\n",
       "      <td>40.878652</td>\n",
       "      <td>41.657165</td>\n",
       "    </tr>\n",
       "    <tr>\n",
       "      <th>3</th>\n",
       "      <td>Albania</td>\n",
       "      <td>ALB</td>\n",
       "      <td>6.960868</td>\n",
       "      <td>6.950036</td>\n",
       "      <td>7.613266</td>\n",
       "      <td>7.348492</td>\n",
       "      <td>7.632664</td>\n",
       "      <td>7.873037</td>\n",
       "      <td>8.470978</td>\n",
       "      <td>8.948981</td>\n",
       "      <td>...</td>\n",
       "      <td>7.834016</td>\n",
       "      <td>7.401102</td>\n",
       "      <td>8.308386</td>\n",
       "      <td>8.027150</td>\n",
       "      <td>9.879394</td>\n",
       "      <td>8.136785</td>\n",
       "      <td>8.108812</td>\n",
       "      <td>8.506996</td>\n",
       "      <td>8.712296</td>\n",
       "      <td>8.898641</td>\n",
       "    </tr>\n",
       "    <tr>\n",
       "      <th>6</th>\n",
       "      <td>United Arab Emirates</td>\n",
       "      <td>ARE</td>\n",
       "      <td>32.962189</td>\n",
       "      <td>41.377845</td>\n",
       "      <td>44.905463</td>\n",
       "      <td>56.875508</td>\n",
       "      <td>57.411527</td>\n",
       "      <td>57.798603</td>\n",
       "      <td>70.352619</td>\n",
       "      <td>69.646400</td>\n",
       "      <td>...</td>\n",
       "      <td>134.091686</td>\n",
       "      <td>139.999464</td>\n",
       "      <td>143.367663</td>\n",
       "      <td>151.837320</td>\n",
       "      <td>167.986432</td>\n",
       "      <td>181.388536</td>\n",
       "      <td>182.422169</td>\n",
       "      <td>193.127158</td>\n",
       "      <td>199.342523</td>\n",
       "      <td>204.888719</td>\n",
       "    </tr>\n",
       "  </tbody>\n",
       "</table>\n",
       "<p>5 rows × 45 columns</p>\n",
       "</div>"
      ],
      "text/plain": [
       "           Country Name Country Code       1970       1971       1972  \\\n",
       "0                 Aruba          ABW   0.042306   0.042787   0.043287   \n",
       "1           Afghanistan          AFG  14.306616  14.391778  13.040848   \n",
       "2                Angola          AGO  60.648601  39.162171  42.205651   \n",
       "3               Albania          ALB   6.960868   6.950036   7.613266   \n",
       "6  United Arab Emirates          ARE  32.962189  41.377845  44.905463   \n",
       "\n",
       "        1973       1974       1975       1976       1977     ...      \\\n",
       "0   0.043725   0.044131   0.044482   0.131634   0.135055     ...       \n",
       "1  13.535754  14.945968  14.574164  14.746851  15.247281     ...       \n",
       "2  44.252669  40.179234  44.429300  38.448024  43.563412     ...       \n",
       "3   7.348492   7.632664   7.873037   8.470978   8.948981     ...       \n",
       "6  56.875508  57.411527  57.798603  70.352619  69.646400     ...       \n",
       "\n",
       "         2003        2004        2005        2006        2007        2008  \\\n",
       "0    0.616929    0.616929    0.616929    0.616929    0.616929    0.616929   \n",
       "1   14.709884   14.654374   14.770264   14.849159   15.272633   15.288776   \n",
       "2   35.858015   36.860233   35.855738   36.375822   36.690534   37.396294   \n",
       "3    7.834016    7.401102    8.308386    8.027150    9.879394    8.136785   \n",
       "6  134.091686  139.999464  143.367663  151.837320  167.986432  181.388536   \n",
       "\n",
       "         2009        2010        2011        2012  \n",
       "0    0.616929    0.616929    0.616929    0.616929  \n",
       "1   15.554429   17.791330   17.981307   18.168860  \n",
       "2   38.309465   40.029392   40.878652   41.657165  \n",
       "3    8.108812    8.506996    8.712296    8.898641  \n",
       "6  182.422169  193.127158  199.342523  204.888719  \n",
       "\n",
       "[5 rows x 45 columns]"
      ]
     },
     "execution_count": 52,
     "metadata": {},
     "output_type": "execute_result"
    }
   ],
   "source": [
    "#Import the dataframe which contains the codes of country group aggregates\n",
    "CountryGroupCodes = pd.read_excel(\"data/CountryGroups.xls\", sheet_name = \"List of economies\", skiprows=226, header = None)\n",
    "CountryGroupCodes.dropna(how=\"all\", inplace=True, axis=1)\n",
    "CountryGroupCodes.drop(columns=0,inplace=True)\n",
    "CountryGroupCodes.dropna(how=\"all\", inplace=True, axis=0)\n",
    "CountryGroupCodes.columns = [\"Aggregate Name\", \"Aggregate Code\"]\n",
    "CountryGroupCodes\n",
    "\n",
    "# Drop the rows corresponding to aggregate country codes from existing dataframe to create a new country dataframe \n",
    "ghgCountryDf_WB = ghgDf_WB[ghgDf_WB[\"Country Code\"].apply(lambda x: False if x in CountryGroupCodes[\"Aggregate Code\"].values else True)]\n",
    "\n",
    "ghgCountryDf_WB.head()"
   ]
  },
  {
   "cell_type": "markdown",
   "metadata": {},
   "source": [
    "### Extending World Bank Data with CAIT data on Greenhouse gases\n",
    "The World Bank data provides the greenshouse gas emissions for all countries only till the year 2012. The Climate Watch dataset (available at https://www.climatewatchdata.org/ghg-emissions?source=31&version=1) provides more recent data on country emissions till the year 2014. \n",
    "\n",
    "In this sub-section, we use this dataset (saved as file `CW_CAIT_GHG_Emissions_31102017.xlsx` in the folder data/wri) to extend our original greenshoue dataset for two more years i.e. from 2012 to 2014."
   ]
  },
  {
   "cell_type": "code",
   "execution_count": 68,
   "metadata": {},
   "outputs": [
    {
     "data": {
      "text/html": [
       "<div>\n",
       "<style scoped>\n",
       "    .dataframe tbody tr th:only-of-type {\n",
       "        vertical-align: middle;\n",
       "    }\n",
       "\n",
       "    .dataframe tbody tr th {\n",
       "        vertical-align: top;\n",
       "    }\n",
       "\n",
       "    .dataframe thead th {\n",
       "        text-align: right;\n",
       "    }\n",
       "</style>\n",
       "<table border=\"1\" class=\"dataframe\">\n",
       "  <thead>\n",
       "    <tr style=\"text-align: right;\">\n",
       "      <th></th>\n",
       "      <th>Country</th>\n",
       "      <th>Year</th>\n",
       "      <th>Total GHG Emissions</th>\n",
       "    </tr>\n",
       "  </thead>\n",
       "  <tbody>\n",
       "    <tr>\n",
       "      <th>0</th>\n",
       "      <td>Afghanistan</td>\n",
       "      <td>1990</td>\n",
       "      <td>15.212848</td>\n",
       "    </tr>\n",
       "    <tr>\n",
       "      <th>1</th>\n",
       "      <td>Afghanistan</td>\n",
       "      <td>1991</td>\n",
       "      <td>15.286439</td>\n",
       "    </tr>\n",
       "    <tr>\n",
       "      <th>2</th>\n",
       "      <td>Afghanistan</td>\n",
       "      <td>1992</td>\n",
       "      <td>14.010531</td>\n",
       "    </tr>\n",
       "    <tr>\n",
       "      <th>3</th>\n",
       "      <td>Afghanistan</td>\n",
       "      <td>1993</td>\n",
       "      <td>14.028118</td>\n",
       "    </tr>\n",
       "    <tr>\n",
       "      <th>4</th>\n",
       "      <td>Afghanistan</td>\n",
       "      <td>1994</td>\n",
       "      <td>13.985408</td>\n",
       "    </tr>\n",
       "  </tbody>\n",
       "</table>\n",
       "</div>"
      ],
      "text/plain": [
       "       Country  Year  Total GHG Emissions\n",
       "0  Afghanistan  1990            15.212848\n",
       "1  Afghanistan  1991            15.286439\n",
       "2  Afghanistan  1992            14.010531\n",
       "3  Afghanistan  1993            14.028118\n",
       "4  Afghanistan  1994            13.985408"
      ]
     },
     "execution_count": 68,
     "metadata": {},
     "output_type": "execute_result"
    }
   ],
   "source": [
    "ghgCountryDf_CAIT = pd.read_excel(\"data/wri/CW_CAIT_GHG_Emissions_31102017.xlsx\", sheet_name = \"GHG Emissions\", skiprows = 2, header = None,\\\n",
    "                                 usecols = \"A,B,D\", names = [\"Country\", \"Year\",\"Total GHG Emissions\"])\n",
    "ghgCountryDf_CAIT[(ghgCountryDf_CAIT[\"Year\"] == 2013) | (ghgCountryDf_CAIT[\"Year\"] == 2014)]\n",
    "ghgCountryDf_CAIT.head()"
   ]
  },
  {
   "cell_type": "markdown",
   "metadata": {},
   "source": [
    "### 1.2 BAU Forecasts\n",
    "\n",
    "The Climate Watch dataset at https://climatewatchdata.org (maintained by the World Resource Institute and supported by other organizations) includes the Global Change Assessment Model (GCAM), which includes a 'no policy' scenario for global emissions.\n",
    "\n",
    "The file `GCAM.xlsx` was manually saved into `GCAM.csv`, since only the last sheet was important."
   ]
  },
  {
   "cell_type": "code",
   "execution_count": 69,
   "metadata": {},
   "outputs": [
    {
     "name": "stdout",
     "output_type": "stream",
     "text": [
      "<class 'pandas.core.frame.DataFrame'>\n",
      "Index: 15048 entries, Africa_Eastern to World\n",
      "Data columns (total 14 columns):\n",
      "Scenario              15048 non-null object\n",
      "ESP Indicator Name    15048 non-null object\n",
      "Unit of Entry         15048 non-null object\n",
      "2005                  15048 non-null float64\n",
      "2010                  15048 non-null float64\n",
      "2020                  15048 non-null float64\n",
      "2030                  15048 non-null float64\n",
      "2040                  15048 non-null float64\n",
      "2050                  15048 non-null float64\n",
      "2060                  15048 non-null float64\n",
      "2070                  15048 non-null float64\n",
      "2080                  15048 non-null float64\n",
      "2090                  15048 non-null float64\n",
      "2100                  15048 non-null float64\n",
      "dtypes: float64(11), object(3)\n",
      "memory usage: 1.5+ MB\n"
     ]
    }
   ],
   "source": [
    "# Use index_col=2, the region, as the index. Drop the Model column, since it is the same across the whole Df.\n",
    "ghgForecast_GCAM = pd.read_csv('data/wri/Pathways/GCAM.csv', index_col=2).drop(['Model'],axis=1)\n",
    "ghgForecast_GCAM.info()"
   ]
  },
  {
   "cell_type": "markdown",
   "metadata": {},
   "source": [
    "Filter the dataset for just the information we're looking for: the 'No policy' scenario and for total GHG emissions. Note that all the emissions are in [MtCO2e/yr] format already."
   ]
  },
  {
   "cell_type": "code",
   "execution_count": 70,
   "metadata": {},
   "outputs": [
    {
     "data": {
      "text/html": [
       "<div>\n",
       "<style scoped>\n",
       "    .dataframe tbody tr th:only-of-type {\n",
       "        vertical-align: middle;\n",
       "    }\n",
       "\n",
       "    .dataframe tbody tr th {\n",
       "        vertical-align: top;\n",
       "    }\n",
       "\n",
       "    .dataframe thead th {\n",
       "        text-align: right;\n",
       "    }\n",
       "</style>\n",
       "<table border=\"1\" class=\"dataframe\">\n",
       "  <thead>\n",
       "    <tr style=\"text-align: right;\">\n",
       "      <th></th>\n",
       "      <th>Scenario</th>\n",
       "      <th>ESP Indicator Name</th>\n",
       "      <th>Unit of Entry</th>\n",
       "      <th>2005</th>\n",
       "      <th>2010</th>\n",
       "      <th>2020</th>\n",
       "      <th>2030</th>\n",
       "      <th>2040</th>\n",
       "      <th>2050</th>\n",
       "      <th>2060</th>\n",
       "      <th>2070</th>\n",
       "      <th>2080</th>\n",
       "      <th>2090</th>\n",
       "      <th>2100</th>\n",
       "    </tr>\n",
       "    <tr>\n",
       "      <th>Region</th>\n",
       "      <th></th>\n",
       "      <th></th>\n",
       "      <th></th>\n",
       "      <th></th>\n",
       "      <th></th>\n",
       "      <th></th>\n",
       "      <th></th>\n",
       "      <th></th>\n",
       "      <th></th>\n",
       "      <th></th>\n",
       "      <th></th>\n",
       "      <th></th>\n",
       "      <th></th>\n",
       "      <th></th>\n",
       "    </tr>\n",
       "  </thead>\n",
       "  <tbody>\n",
       "    <tr>\n",
       "      <th>World</th>\n",
       "      <td>No policy</td>\n",
       "      <td>Emissions|GHG Emissions by gas with LULUCF|CH4</td>\n",
       "      <td>Mt CO2e/yr</td>\n",
       "      <td>8570.217953</td>\n",
       "      <td>9264.882565</td>\n",
       "      <td>9799.284338</td>\n",
       "      <td>11234.426990</td>\n",
       "      <td>12424.910120</td>\n",
       "      <td>13566.543720</td>\n",
       "      <td>13992.761340</td>\n",
       "      <td>14458.018080</td>\n",
       "      <td>14789.628560</td>\n",
       "      <td>14746.148800</td>\n",
       "      <td>14898.743490</td>\n",
       "    </tr>\n",
       "    <tr>\n",
       "      <th>World</th>\n",
       "      <td>No policy</td>\n",
       "      <td>Emissions|GHG Emissions by gas with LULUCF|CO2</td>\n",
       "      <td>Mt CO2e/yr</td>\n",
       "      <td>31889.098990</td>\n",
       "      <td>36595.380740</td>\n",
       "      <td>38754.445630</td>\n",
       "      <td>47492.609340</td>\n",
       "      <td>57088.151610</td>\n",
       "      <td>64566.994840</td>\n",
       "      <td>71211.017950</td>\n",
       "      <td>78084.976450</td>\n",
       "      <td>83450.324940</td>\n",
       "      <td>88192.165270</td>\n",
       "      <td>94373.292260</td>\n",
       "    </tr>\n",
       "    <tr>\n",
       "      <th>World</th>\n",
       "      <td>No policy</td>\n",
       "      <td>Emissions|GHG Emissions by gas with LULUCF|F-g...</td>\n",
       "      <td>Mt CO2e/yr</td>\n",
       "      <td>839.939055</td>\n",
       "      <td>892.510385</td>\n",
       "      <td>1489.676138</td>\n",
       "      <td>2451.654059</td>\n",
       "      <td>3068.102671</td>\n",
       "      <td>3707.282410</td>\n",
       "      <td>4371.186662</td>\n",
       "      <td>5042.756627</td>\n",
       "      <td>5673.425213</td>\n",
       "      <td>6191.510868</td>\n",
       "      <td>6579.299866</td>\n",
       "    </tr>\n",
       "    <tr>\n",
       "      <th>World</th>\n",
       "      <td>No policy</td>\n",
       "      <td>Emissions|GHG Emissions by gas with LULUCF|N2O</td>\n",
       "      <td>Mt CO2e/yr</td>\n",
       "      <td>1066.793051</td>\n",
       "      <td>1089.492183</td>\n",
       "      <td>1230.369440</td>\n",
       "      <td>1363.312513</td>\n",
       "      <td>1495.367595</td>\n",
       "      <td>1637.717985</td>\n",
       "      <td>1789.992339</td>\n",
       "      <td>1942.661272</td>\n",
       "      <td>2066.852264</td>\n",
       "      <td>2168.403618</td>\n",
       "      <td>2241.209873</td>\n",
       "    </tr>\n",
       "  </tbody>\n",
       "</table>\n",
       "</div>"
      ],
      "text/plain": [
       "         Scenario                                 ESP Indicator Name  \\\n",
       "Region                                                                 \n",
       "World   No policy     Emissions|GHG Emissions by gas with LULUCF|CH4   \n",
       "World   No policy     Emissions|GHG Emissions by gas with LULUCF|CO2   \n",
       "World   No policy  Emissions|GHG Emissions by gas with LULUCF|F-g...   \n",
       "World   No policy     Emissions|GHG Emissions by gas with LULUCF|N2O   \n",
       "\n",
       "       Unit of Entry          2005          2010          2020          2030  \\\n",
       "Region                                                                         \n",
       "World     Mt CO2e/yr   8570.217953   9264.882565   9799.284338  11234.426990   \n",
       "World     Mt CO2e/yr  31889.098990  36595.380740  38754.445630  47492.609340   \n",
       "World     Mt CO2e/yr    839.939055    892.510385   1489.676138   2451.654059   \n",
       "World     Mt CO2e/yr   1066.793051   1089.492183   1230.369440   1363.312513   \n",
       "\n",
       "                2040          2050          2060          2070          2080  \\\n",
       "Region                                                                         \n",
       "World   12424.910120  13566.543720  13992.761340  14458.018080  14789.628560   \n",
       "World   57088.151610  64566.994840  71211.017950  78084.976450  83450.324940   \n",
       "World    3068.102671   3707.282410   4371.186662   5042.756627   5673.425213   \n",
       "World    1495.367595   1637.717985   1789.992339   1942.661272   2066.852264   \n",
       "\n",
       "                2090          2100  \n",
       "Region                              \n",
       "World   14746.148800  14898.743490  \n",
       "World   88192.165270  94373.292260  \n",
       "World    6191.510868   6579.299866  \n",
       "World    2168.403618   2241.209873  "
      ]
     },
     "execution_count": 70,
     "metadata": {},
     "output_type": "execute_result"
    }
   ],
   "source": [
    "ghgForecast_GCAM_BAU = \\\n",
    "    ghgForecast_GCAM[ (ghgForecast_GCAM['Scenario'] == 'No policy') &\n",
    "                    (ghgForecast_GCAM['ESP Indicator Name'].str.startswith('Emissions|GHG')) ] \\\n",
    "                    .loc['World',:]\n",
    "\n",
    "ghgForecast_GCAM_BAU"
   ]
  },
  {
   "cell_type": "code",
   "execution_count": 146,
   "metadata": {
    "scrolled": true
   },
   "outputs": [
    {
     "name": "stdout",
     "output_type": "stream",
     "text": [
      "The total projected GHG emissions for the no policy scenario in 2030 is: 62542.00 MtCO2e/yr.\n"
     ]
    }
   ],
   "source": [
    "print('The total projected GHG emissions for the no policy scenario in 2030 is: {:.2f} MtCO2e/yr.'.format(\n",
    "    ghgForecast_GCAM_BAU['2030'].sum() ) )"
   ]
  },
  {
   "cell_type": "markdown",
   "metadata": {},
   "source": [
    "### 1.3 NDCs in 2030\n",
    "\n",
    "The same ClimateWatch source contains NDCs in the format:\n",
    "\n",
    "    ISO Country Code, Country Name, Goal Year, Value (in MtCO2e/yr), if goal is a range, and the type of goal."
   ]
  },
  {
   "cell_type": "code",
   "execution_count": 72,
   "metadata": {},
   "outputs": [
    {
     "data": {
      "text/html": [
       "<div>\n",
       "<style scoped>\n",
       "    .dataframe tbody tr th:only-of-type {\n",
       "        vertical-align: middle;\n",
       "    }\n",
       "\n",
       "    .dataframe tbody tr th {\n",
       "        vertical-align: top;\n",
       "    }\n",
       "\n",
       "    .dataframe thead th {\n",
       "        text-align: right;\n",
       "    }\n",
       "</style>\n",
       "<table border=\"1\" class=\"dataframe\">\n",
       "  <thead>\n",
       "    <tr style=\"text-align: right;\">\n",
       "      <th></th>\n",
       "      <th>ISO</th>\n",
       "      <th>Country</th>\n",
       "      <th>Year</th>\n",
       "      <th>Value</th>\n",
       "      <th>Range</th>\n",
       "      <th>Label</th>\n",
       "    </tr>\n",
       "  </thead>\n",
       "  <tbody>\n",
       "    <tr>\n",
       "      <th>0</th>\n",
       "      <td>AFG</td>\n",
       "      <td>Afghanistan</td>\n",
       "      <td>2020</td>\n",
       "      <td>35.5</td>\n",
       "      <td>No</td>\n",
       "      <td>BAU</td>\n",
       "    </tr>\n",
       "    <tr>\n",
       "      <th>1</th>\n",
       "      <td>AFG</td>\n",
       "      <td>Afghanistan</td>\n",
       "      <td>2025</td>\n",
       "      <td>40.3</td>\n",
       "      <td>No</td>\n",
       "      <td>Conditional</td>\n",
       "    </tr>\n",
       "    <tr>\n",
       "      <th>2</th>\n",
       "      <td>AFG</td>\n",
       "      <td>Afghanistan</td>\n",
       "      <td>2025</td>\n",
       "      <td>41.7</td>\n",
       "      <td>No</td>\n",
       "      <td>BAU</td>\n",
       "    </tr>\n",
       "    <tr>\n",
       "      <th>3</th>\n",
       "      <td>AFG</td>\n",
       "      <td>Afghanistan</td>\n",
       "      <td>2030</td>\n",
       "      <td>42.7</td>\n",
       "      <td>No</td>\n",
       "      <td>Conditional</td>\n",
       "    </tr>\n",
       "    <tr>\n",
       "      <th>4</th>\n",
       "      <td>AFG</td>\n",
       "      <td>Afghanistan</td>\n",
       "      <td>2030</td>\n",
       "      <td>48.9</td>\n",
       "      <td>No</td>\n",
       "      <td>BAU</td>\n",
       "    </tr>\n",
       "  </tbody>\n",
       "</table>\n",
       "</div>"
      ],
      "text/plain": [
       "   ISO      Country  Year  Value Range        Label\n",
       "0  AFG  Afghanistan  2020   35.5    No          BAU\n",
       "1  AFG  Afghanistan  2025   40.3    No  Conditional\n",
       "2  AFG  Afghanistan  2025   41.7    No          BAU\n",
       "3  AFG  Afghanistan  2030   42.7    No  Conditional\n",
       "4  AFG  Afghanistan  2030   48.9    No          BAU"
      ]
     },
     "execution_count": 72,
     "metadata": {},
     "output_type": "execute_result"
    }
   ],
   "source": [
    "NDCsDf_raw = pd.read_csv('data/wri/CW_NDC_quantification_April30.csv')\n",
    "NDCsDf = NDCsDf_raw.dropna(axis=0).drop(328) #328 is a mis-entry, as determined through inspection\n",
    "\n",
    "# Check data input\n",
    "NDCsDf.head(5)"
   ]
  },
  {
   "cell_type": "markdown",
   "metadata": {},
   "source": [
    "Some countries' NDCs are given as a range. For simplicity, this analysis will only examine the mean of that range."
   ]
  },
  {
   "cell_type": "code",
   "execution_count": 73,
   "metadata": {},
   "outputs": [],
   "source": [
    "rangedIndices = NDCsDf[NDCsDf['Range'] == 'Yes'].index\n",
    "\n",
    "# Note that each range is a pair\n",
    "# Is there a non-for loop method to do this?\n",
    "for i in range(0,len(rangedIndices)-1,2):    \n",
    "    NDCsDf.loc[rangedIndices[i],'Value'] = (\n",
    "        (NDCsDf['Value'][rangedIndices[i]] + NDCsDf['Value'][rangedIndices[i+1]])/2\n",
    "    )\n",
    "    \n",
    "# Drop the column 'Range', since it is not really needed anymore.\n",
    "NDCsDf = NDCsDf.drop(labels=rangedIndices[1::2], axis=0).drop(labels='Range', axis=1)"
   ]
  },
  {
   "cell_type": "markdown",
   "metadata": {},
   "source": [
    "From here on, the situation in 2030 will be the primary focus. Where countries have not submitted data for 2030, the furthest value is used. Furthermore, the best case where the higher goal between choices (e.g. uncondintional if both it and conditional exist) is taken.\n",
    "\n",
    "Note that the EU, which is collectively a large emitter, has only submitted NDCs for 2020."
   ]
  },
  {
   "cell_type": "code",
   "execution_count": 74,
   "metadata": {},
   "outputs": [],
   "source": [
    "NDC_byCountry = []\n",
    "\n",
    "for i in NDCsDf['ISO'].unique():\n",
    "    NDC_byCountry.append(NDCsDf[NDCsDf['ISO']==i]['Value'].min() )"
   ]
  },
  {
   "cell_type": "code",
   "execution_count": 75,
   "metadata": {},
   "outputs": [],
   "source": [
    "d = {\n",
    "    'Country': NDCsDf['ISO'].unique(),\n",
    "    'Goal':    NDC_byCountry \n",
    "}\n",
    "\n",
    "NDCs_clean = pd.DataFrame(d)\n",
    "NDCs_clean = NDCs_clean.set_index('Country')"
   ]
  },
  {
   "cell_type": "code",
   "execution_count": 76,
   "metadata": {
    "scrolled": true
   },
   "outputs": [
    {
     "data": {
      "text/html": [
       "<div>\n",
       "<style scoped>\n",
       "    .dataframe tbody tr th:only-of-type {\n",
       "        vertical-align: middle;\n",
       "    }\n",
       "\n",
       "    .dataframe tbody tr th {\n",
       "        vertical-align: top;\n",
       "    }\n",
       "\n",
       "    .dataframe thead th {\n",
       "        text-align: right;\n",
       "    }\n",
       "</style>\n",
       "<table border=\"1\" class=\"dataframe\">\n",
       "  <thead>\n",
       "    <tr style=\"text-align: right;\">\n",
       "      <th></th>\n",
       "      <th>Goal</th>\n",
       "    </tr>\n",
       "    <tr>\n",
       "      <th>Country</th>\n",
       "      <th></th>\n",
       "    </tr>\n",
       "  </thead>\n",
       "  <tbody>\n",
       "    <tr>\n",
       "      <th>AFG</th>\n",
       "      <td>35.5000</td>\n",
       "    </tr>\n",
       "    <tr>\n",
       "      <th>ALB</th>\n",
       "      <td>5.4500</td>\n",
       "    </tr>\n",
       "    <tr>\n",
       "      <th>AND</th>\n",
       "      <td>0.3299</td>\n",
       "    </tr>\n",
       "    <tr>\n",
       "      <th>AGO</th>\n",
       "      <td>96.6300</td>\n",
       "    </tr>\n",
       "    <tr>\n",
       "      <th>ATG</th>\n",
       "      <td>0.2910</td>\n",
       "    </tr>\n",
       "  </tbody>\n",
       "</table>\n",
       "</div>"
      ],
      "text/plain": [
       "            Goal\n",
       "Country         \n",
       "AFG      35.5000\n",
       "ALB       5.4500\n",
       "AND       0.3299\n",
       "AGO      96.6300\n",
       "ATG       0.2910"
      ]
     },
     "execution_count": 76,
     "metadata": {},
     "output_type": "execute_result"
    }
   ],
   "source": [
    "NDCs_clean.head()"
   ]
  },
  {
   "cell_type": "code",
   "execution_count": 77,
   "metadata": {},
   "outputs": [
    {
     "name": "stdout",
     "output_type": "stream",
     "text": [
      "If this best case, where all NDCs are met, then the 2030 emissions will be 43006.81 MtCO2e/yr.\n"
     ]
    }
   ],
   "source": [
    "print('If this best case, where all NDCs are met, then the 2030 emissions will be {:.2f} MtCO2e/yr.' \\\n",
    "     .format( NDCs_clean.values.sum() ))"
   ]
  },
  {
   "cell_type": "markdown",
   "metadata": {},
   "source": [
    "### 1.4 Emissions Requirements for Temperature Targets\n",
    "\n",
    "The Intergovernmental Panel on Climate Change (IPCC) recently released a report about emissions pathways required to reach 1.5ºC of warming. They noted that \"all but one\" model require emissions reduce to *at most 35 GtCO2e/yr by 2030*.\n",
    "\n",
    "IPCC. (2018). IPCC special report on the impacts of global warming of 1.5 °C - Summary for policy makers. Retrieved from http://www.ipcc.ch/report/sr15/"
   ]
  },
  {
   "cell_type": "code",
   "execution_count": 149,
   "metadata": {},
   "outputs": [
    {
     "data": {
      "image/png": "[encoded data removed]",
      "text/plain": [
       "<matplotlib.figure.Figure at 0xd00770>"
      ]
     },
     "metadata": {},
     "output_type": "display_data"
    }
   ],
   "source": [
    "plt.xlabel('Year')\n",
    "plt.ylabel('GHG Emissions per Year [MtCO2e/yr]')\n",
    "plt.title('Comparison of GHG Emissions per Year, NDCs,\\n No-policy GCAM Pathway, and 1.5ºC Requirement')\n",
    " \n",
    "x1 = [2012,2030]\n",
    "y1 = [ghgDf_WB[ ghgDf_WB['Country Name'] == 'World' ]['2012'], ghgForecast_GCAM_BAU['2030'].sum()]\n",
    "y2 = [ghgDf_WB[ ghgDf_WB['Country Name'] == 'World' ]['2012'], 50000]\n",
    "y3 = [ghgDf_WB[ ghgDf_WB['Country Name'] == 'World' ]['2012'], NDCs_clean.values.sum()]\n",
    "y4 = [ghgDf_WB[ ghgDf_WB['Country Name'] == 'World' ]['2012'], 35000]\n",
    "\n",
    "CoeffLineNoPolicy = np.polyfit(x1,y1,1)\n",
    "CoeffLineLowTarget = np.polyfit(x1,y2,1)\n",
    "CoeffLineNDCs = np.polyfit(x1,y3,1)\n",
    "CoeffLineHighTarget = np.polyfit(x1,y4,1)\n",
    "\n",
    "LineNoPolicy = np.poly1d(CoeffLineNoPolicy)\n",
    "LineLowTarget = np.poly1d(CoeffLineLowTarget)\n",
    "LineNDCs = np.poly1d(CoeffLineNDCs)\n",
    "LineHighTarget = np.poly1d(CoeffLineHighTarget)\n",
    "\n",
    "plt.plot(x1, LineNoPolicy(x1), \"-o\", color = \"black\")\n",
    "plt.plot(x1, LineLowTarget(x1), \"-o\", color = \"grey\")\n",
    "plt.plot(x1, LineNDCs(x1), \"-o\", color = \"orange\")\n",
    "plt.plot(x1, LineHighTarget(x1), \"-o\", color = \"green\")\n",
    "\n",
    "plt.fill_between(x1, LineNoPolicy(x1), LineLowTarget(x1), color = \"grey\")\n",
    "plt.fill_between(x1, LineLowTarget(x1), LineNDCs(x1), color = \"orange\")\n",
    "plt.fill_between(x1, LineNDCs(x1), LineHighTarget(x1), color = \"green\")\n",
    "plt.xticks(range(2010, 2031, 5))\n",
    "plt.show()\n"
   ]
  },
  {
   "cell_type": "markdown",
   "metadata": {},
   "source": [
    "# BREAK IN ANALYSIS\n",
    "\n",
    "The info below needs to be reorganized. - Jason"
   ]
  },
  {
   "cell_type": "markdown",
   "metadata": {},
   "source": [
    "## Which countries need to more?"
   ]
  },
  {
   "cell_type": "code",
   "execution_count": 16,
   "metadata": {},
   "outputs": [
    {
     "data": {
      "image/png": "[encoded data removed]",
      "text/plain": [
       "<Figure size 432x288 with 1 Axes>"
      ]
     },
     "metadata": {
      "needs_background": "light"
     },
     "output_type": "display_data"
    }
   ],
   "source": [
    "#Sorted bar chart of 2012 greenhouse gases\n",
    "\n",
    "ghgCountryDf_WB.sort_values(by=\"2012\", ascending=False)[[\"Country Name\", \"2012\"]]\n",
    "\n",
    "GreenhouseGasesTop20Emitters = ghgCountryDf_WB.sort_values(by = \"2012\", ascending = False).iloc[:20,:]\n",
    "\n",
    "GreenhouseGasesTop20Emitters[[\"Country Name\", \"2012\"]].plot(x = \"Country Name\", kind=\"bar\")\n",
    "\n",
    "plt.ylabel(\"GreenHouse Emission [Kt CO2]\")\n",
    "plt.show()"
   ]
  },
  {
   "cell_type": "markdown",
   "metadata": {},
   "source": [
    "Time series for greenhouse gases of major (top 10 depending on V1) present polluters (from 1990 to most-recent)"
   ]
  },
  {
   "cell_type": "code",
   "execution_count": 17,
   "metadata": {},
   "outputs": [
    {
     "data": {
      "image/png": "[encoded data removed]",
      "text/plain": [
       "<Figure size 960x800 with 1 Axes>"
      ]
     },
     "metadata": {
      "needs_background": "light"
     },
     "output_type": "display_data"
    }
   ],
   "source": [
    "# Time series for ghg emissions of the top 10 most polluting countries.\n",
    "\n",
    "GreenhouseGasesTop10Emitters = ghgCountryDf_WB.sort_values(by = \"2012\", ascending = False).iloc[:10,:]\n",
    "\n",
    "plt.figure(figsize=(12, 10), dpi=80) \n",
    "\n",
    "for i in range(0,10):\n",
    "    \n",
    "    row = GreenhouseGasesTop10Emitters.iloc[i,22:]\n",
    "    plt.plot(row)\n",
    "\n",
    "plt.MaxNLocator(10)\n",
    "plt.xlabel(\"Years\")\n",
    "plt.ylabel(\"GHG Emissions-kt CO2 eq.\")\n",
    "plt.title(\"GHG Emissions starting between 1990-2012\")\n",
    "#plt.legend(loc=((1.05,0.3)))#how to show country names instead of the numbers \n",
    "plt.legend(GreenhouseGasesTop10Emitters[\"Country Name\"] )\n",
    "\n",
    "plt.show()"
   ]
  },
  {
   "cell_type": "markdown",
   "metadata": {},
   "source": [
    "We observe that the top polluter of the world China has increasing emissions starting from 1990s till 2012. The second polluter US, on the other hand shows a stable curve over the years. Until 2004 it is the top polluter of the world. India........"
   ]
  },
  {
   "cell_type": "markdown",
   "metadata": {},
   "source": [
    "## Data visualization"
   ]
  },
  {
   "cell_type": "code",
   "execution_count": 18,
   "metadata": {},
   "outputs": [
    {
     "data": {
      "image/png": "[encoded data removed]",
      "text/plain": [
       "<Figure size 432x288 with 1 Axes>"
      ]
     },
     "metadata": {
      "needs_background": "light"
     },
     "output_type": "display_data"
    }
   ],
   "source": [
    "#Greenhouse reductions by countries according to their NDCs. Data is already converted to mtCO2e. Countries have different goals \n",
    "#in terms of which year they are based on and which year they aim also unconditional and conditional goals. Here the goals are  \n",
    "#not based on year target but the minimum goal of each country is choosen?? \n",
    "\n",
    "#See if the ones who are most polluting also have the highest reduction aim\n",
    "\n",
    "GreenhouseGasesTop10Emitters\n",
    "\n",
    "NDCsTop10 = NDCs_clean.loc[ [i for i in GreenhouseGasesTop10Emitters[\"Country Code\"].values] ]\n",
    "\n",
    "NDCsTop10.head()\n",
    "\n",
    "NDCsTop10= NDCsTop10.sort_values(by=\"Goal\", ascending=False)\n",
    "\n",
    "NDCsTop10.plot(kind=\"bar\")\n",
    "\n",
    "plt.ylabel(\"Nationally Determined Contributions [Kt CO2]\")\n",
    "plt.show()"
   ]
  },
  {
   "cell_type": "markdown",
   "metadata": {},
   "source": [
    "IND-India\n",
    "IDN-Indonesia\n",
    "In the first graph we observed that China,US and India are the top 3 major polluters and their reduction targets allign with this ranking. In the greenhouse gases emission graph the list goes on as Brazil, Russia, Japan, Canada, Germany, Congo and Indonesia. Among these countries even though Indonesia is the least polluting among these, it has higher reduction goals than many of the rest of the countries. "
   ]
  }
 ],
 "metadata": {
  "colab": {
   "collapsed_sections": [],
   "include_colab_link": true,
   "name": "ghg_analytics.ipynb",
   "provenance": [],
   "version": "0.3.2"
  },
  "kernelspec": {
   "display_name": "Python 3",
   "language": "python",
   "name": "python3"
  },
  "language_info": {
   "codemirror_mode": {
    "name": "ipython",
    "version": 3
   },
   "file_extension": ".py",
   "mimetype": "text/x-python",
   "name": "python",
   "nbconvert_exporter": "python",
   "pygments_lexer": "ipython3",
   "version": "3.6.4"
  }
 },
 "nbformat": 4,
 "nbformat_minor": 1
}

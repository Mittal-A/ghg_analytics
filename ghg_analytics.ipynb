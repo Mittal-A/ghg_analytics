{
 "cells": [
  {
   "cell_type": "markdown",
   "metadata": {
    "colab_type": "text",
    "id": "view-in-github"
   },
   "source": [
    "[View in Colaboratory](https://colab.research.google.com/github/jasonrwang/ghg_analytics/blob/master/ghg_analytics.ipynb)"
   ]
  },
  {
   "cell_type": "markdown",
   "metadata": {
    "colab_type": "text",
    "id": "CSzetozGBCVj"
   },
   "source": [
    "# ghg_analytics\n",
    "## Insights into trends with global greenhouse gases and climate change action.\n",
    "\n",
    "### Authors:\n",
    "* Aashna Mittal\n",
    "* Gamze Ünlü\n",
    "* Jason R Wang"
   ]
  },
  {
   "cell_type": "code",
   "execution_count": 287,
   "metadata": {
    "colab": {},
    "colab_type": "code",
    "id": "NNIfc0niBh3b"
   },
   "outputs": [],
   "source": [
    "#library imports\n",
    "import numpy as np\n",
    "import pandas as pd\n",
    "import matplotlib.pyplot as plt\n",
    "from numpy import NaN\n",
    "plt.style.use('ggplot')"
   ]
  },
  {
   "cell_type": "markdown",
   "metadata": {},
   "source": [
    "## Data Cleaning"
   ]
  },
  {
   "cell_type": "markdown",
   "metadata": {},
   "source": [
    "### For Current Greenhouse Gas Emissions\n",
    "Source: https://data.worldbank.org/indicator/EN.ATM.GHGT.KT.CE?view=chart\n",
    "(Is this true, Aashna?) - Jason"
   ]
  },
  {
   "cell_type": "code",
   "execution_count": 288,
   "metadata": {
    "scrolled": false
   },
   "outputs": [
    {
     "data": {
      "text/html": [
       "<div>\n",
       "<style scoped>\n",
       "    .dataframe tbody tr th:only-of-type {\n",
       "        vertical-align: middle;\n",
       "    }\n",
       "\n",
       "    .dataframe tbody tr th {\n",
       "        vertical-align: top;\n",
       "    }\n",
       "\n",
       "    .dataframe thead th {\n",
       "        text-align: right;\n",
       "    }\n",
       "</style>\n",
       "<table border=\"1\" class=\"dataframe\">\n",
       "  <thead>\n",
       "    <tr style=\"text-align: right;\">\n",
       "      <th></th>\n",
       "      <th>Country Name</th>\n",
       "      <th>Country Code</th>\n",
       "      <th>1970</th>\n",
       "      <th>1971</th>\n",
       "      <th>1972</th>\n",
       "      <th>1973</th>\n",
       "      <th>1974</th>\n",
       "      <th>1975</th>\n",
       "      <th>1976</th>\n",
       "      <th>1977</th>\n",
       "      <th>...</th>\n",
       "      <th>2003</th>\n",
       "      <th>2004</th>\n",
       "      <th>2005</th>\n",
       "      <th>2006</th>\n",
       "      <th>2007</th>\n",
       "      <th>2008</th>\n",
       "      <th>2009</th>\n",
       "      <th>2010</th>\n",
       "      <th>2011</th>\n",
       "      <th>2012</th>\n",
       "    </tr>\n",
       "  </thead>\n",
       "  <tbody>\n",
       "    <tr>\n",
       "      <th>0</th>\n",
       "      <td>Aruba</td>\n",
       "      <td>ABW</td>\n",
       "      <td>42.306298</td>\n",
       "      <td>42.786948</td>\n",
       "      <td>43.286613</td>\n",
       "      <td>43.724590</td>\n",
       "      <td>44.130957</td>\n",
       "      <td>44.481908</td>\n",
       "      <td>131.633746</td>\n",
       "      <td>135.055319</td>\n",
       "      <td>...</td>\n",
       "      <td>6.169287e+02</td>\n",
       "      <td>6.169287e+02</td>\n",
       "      <td>6.169287e+02</td>\n",
       "      <td>6.169287e+02</td>\n",
       "      <td>6.169287e+02</td>\n",
       "      <td>6.169287e+02</td>\n",
       "      <td>6.169287e+02</td>\n",
       "      <td>6.169287e+02</td>\n",
       "      <td>6.169287e+02</td>\n",
       "      <td>6.169287e+02</td>\n",
       "    </tr>\n",
       "    <tr>\n",
       "      <th>1</th>\n",
       "      <td>Afghanistan</td>\n",
       "      <td>AFG</td>\n",
       "      <td>14306.616300</td>\n",
       "      <td>14391.778200</td>\n",
       "      <td>13040.848000</td>\n",
       "      <td>13535.754100</td>\n",
       "      <td>14945.968200</td>\n",
       "      <td>14574.164000</td>\n",
       "      <td>14746.851000</td>\n",
       "      <td>15247.281000</td>\n",
       "      <td>...</td>\n",
       "      <td>1.470988e+04</td>\n",
       "      <td>1.465437e+04</td>\n",
       "      <td>1.477026e+04</td>\n",
       "      <td>1.484916e+04</td>\n",
       "      <td>1.527263e+04</td>\n",
       "      <td>1.528878e+04</td>\n",
       "      <td>1.555443e+04</td>\n",
       "      <td>1.779133e+04</td>\n",
       "      <td>1.798131e+04</td>\n",
       "      <td>1.816886e+04</td>\n",
       "    </tr>\n",
       "    <tr>\n",
       "      <th>2</th>\n",
       "      <td>Angola</td>\n",
       "      <td>AGO</td>\n",
       "      <td>60648.601080</td>\n",
       "      <td>39162.171430</td>\n",
       "      <td>42205.650700</td>\n",
       "      <td>44252.669120</td>\n",
       "      <td>40179.233500</td>\n",
       "      <td>44429.300030</td>\n",
       "      <td>38448.024090</td>\n",
       "      <td>43563.412180</td>\n",
       "      <td>...</td>\n",
       "      <td>3.585801e+04</td>\n",
       "      <td>3.686023e+04</td>\n",
       "      <td>3.585574e+04</td>\n",
       "      <td>3.637582e+04</td>\n",
       "      <td>3.669053e+04</td>\n",
       "      <td>3.739629e+04</td>\n",
       "      <td>3.830947e+04</td>\n",
       "      <td>4.002939e+04</td>\n",
       "      <td>4.087865e+04</td>\n",
       "      <td>4.165716e+04</td>\n",
       "    </tr>\n",
       "    <tr>\n",
       "      <th>3</th>\n",
       "      <td>Albania</td>\n",
       "      <td>ALB</td>\n",
       "      <td>6960.868200</td>\n",
       "      <td>6950.036100</td>\n",
       "      <td>7613.266100</td>\n",
       "      <td>7348.492100</td>\n",
       "      <td>7632.664300</td>\n",
       "      <td>7873.037000</td>\n",
       "      <td>8470.978400</td>\n",
       "      <td>8948.980900</td>\n",
       "      <td>...</td>\n",
       "      <td>7.834016e+03</td>\n",
       "      <td>7.401102e+03</td>\n",
       "      <td>8.308386e+03</td>\n",
       "      <td>8.027150e+03</td>\n",
       "      <td>9.879394e+03</td>\n",
       "      <td>8.136785e+03</td>\n",
       "      <td>8.108812e+03</td>\n",
       "      <td>8.506996e+03</td>\n",
       "      <td>8.712296e+03</td>\n",
       "      <td>8.898641e+03</td>\n",
       "    </tr>\n",
       "    <tr>\n",
       "      <th>5</th>\n",
       "      <td>Arab World</td>\n",
       "      <td>ARB</td>\n",
       "      <td>552362.062026</td>\n",
       "      <td>576946.152269</td>\n",
       "      <td>625015.943839</td>\n",
       "      <td>699280.217253</td>\n",
       "      <td>679448.005841</td>\n",
       "      <td>683966.235399</td>\n",
       "      <td>775863.729505</td>\n",
       "      <td>799971.040800</td>\n",
       "      <td>...</td>\n",
       "      <td>1.963193e+06</td>\n",
       "      <td>1.660587e+06</td>\n",
       "      <td>1.767879e+06</td>\n",
       "      <td>1.731289e+06</td>\n",
       "      <td>2.355481e+06</td>\n",
       "      <td>2.364089e+06</td>\n",
       "      <td>2.387502e+06</td>\n",
       "      <td>1.924245e+06</td>\n",
       "      <td>2.483349e+06</td>\n",
       "      <td>1.908696e+06</td>\n",
       "    </tr>\n",
       "  </tbody>\n",
       "</table>\n",
       "<p>5 rows × 45 columns</p>\n",
       "</div>"
      ],
      "text/plain": [
       "  Country Name Country Code           1970           1971           1972  \\\n",
       "0        Aruba          ABW      42.306298      42.786948      43.286613   \n",
       "1  Afghanistan          AFG   14306.616300   14391.778200   13040.848000   \n",
       "2       Angola          AGO   60648.601080   39162.171430   42205.650700   \n",
       "3      Albania          ALB    6960.868200    6950.036100    7613.266100   \n",
       "5   Arab World          ARB  552362.062026  576946.152269  625015.943839   \n",
       "\n",
       "            1973           1974           1975           1976           1977  \\\n",
       "0      43.724590      44.130957      44.481908     131.633746     135.055319   \n",
       "1   13535.754100   14945.968200   14574.164000   14746.851000   15247.281000   \n",
       "2   44252.669120   40179.233500   44429.300030   38448.024090   43563.412180   \n",
       "3    7348.492100    7632.664300    7873.037000    8470.978400    8948.980900   \n",
       "5  699280.217253  679448.005841  683966.235399  775863.729505  799971.040800   \n",
       "\n",
       "       ...               2003          2004          2005          2006  \\\n",
       "0      ...       6.169287e+02  6.169287e+02  6.169287e+02  6.169287e+02   \n",
       "1      ...       1.470988e+04  1.465437e+04  1.477026e+04  1.484916e+04   \n",
       "2      ...       3.585801e+04  3.686023e+04  3.585574e+04  3.637582e+04   \n",
       "3      ...       7.834016e+03  7.401102e+03  8.308386e+03  8.027150e+03   \n",
       "5      ...       1.963193e+06  1.660587e+06  1.767879e+06  1.731289e+06   \n",
       "\n",
       "           2007          2008          2009          2010          2011  \\\n",
       "0  6.169287e+02  6.169287e+02  6.169287e+02  6.169287e+02  6.169287e+02   \n",
       "1  1.527263e+04  1.528878e+04  1.555443e+04  1.779133e+04  1.798131e+04   \n",
       "2  3.669053e+04  3.739629e+04  3.830947e+04  4.002939e+04  4.087865e+04   \n",
       "3  9.879394e+03  8.136785e+03  8.108812e+03  8.506996e+03  8.712296e+03   \n",
       "5  2.355481e+06  2.364089e+06  2.387502e+06  1.924245e+06  2.483349e+06   \n",
       "\n",
       "           2012  \n",
       "0  6.169287e+02  \n",
       "1  1.816886e+04  \n",
       "2  4.165716e+04  \n",
       "3  8.898641e+03  \n",
       "5  1.908696e+06  \n",
       "\n",
       "[5 rows x 45 columns]"
      ]
     },
     "execution_count": 288,
     "metadata": {},
     "output_type": "execute_result"
    }
   ],
   "source": [
    "#Import data on Greenhouse Gases\n",
    "GreenhouseGasesOriginalDf = pd.read_csv(\"Data Sources/GreenhouseGasData.csv\", sep=',', skipinitialspace=True, skiprows=4) \n",
    "#print(\"Original dataframe...\\n\", GreenhouseGasesOriginalDf.head(10))\n",
    "\n",
    "#Drop the indicator name and indicator code as the values are same across the whole dataframe\n",
    "GreenhouseGasesDf = GreenhouseGasesOriginalDf.drop([\"Indicator Code\", \"Indicator Name\"], axis = 1)\n",
    "\n",
    "#Drop all the columns that contain only null values\n",
    "GreenhouseGasesDf.dropna(axis = 1, how=\"all\", inplace=True)  \n",
    "\n",
    "#Drop all the rows that contain only null values, starting from column 2\n",
    "GreenhouseGasesDf.dropna(axis = 0, how=\"all\", subset = GreenhouseGasesDf.columns[2:], inplace= True)  \n",
    "\n",
    "#First interpolate missing values and then use backfill to fill starting NA values of a row\n",
    "GreenhouseGasesDf.iloc[:,2:] = GreenhouseGasesDf.iloc[:,2:].interpolate(axis = 1).bfill(axis=1)\n",
    "\n",
    "GreenhouseGasesDf.head()"
   ]
  },
  {
   "cell_type": "markdown",
   "metadata": {},
   "source": [
    "### Create Comparison for Country Group Codes and Names"
   ]
  },
  {
   "cell_type": "code",
   "execution_count": 290,
   "metadata": {},
   "outputs": [],
   "source": [
    "#Import the dataframe which contains the codes of country group aggregates\n",
    "CountryGroupCodes = pd.read_excel(\"Data sources/CountryGroups.xls\", sheet = \"Groups\", skiprows=226, header = None)\n",
    "CountryGroupCodes.dropna(how=\"all\", inplace=True, axis=1)\n",
    "CountryGroupCodes.drop(columns=0,inplace=True)\n",
    "CountryGroupCodes.dropna(how=\"all\", inplace=True, axis=0)\n",
    "CountryGroupCodes.columns = [\"Aggregate Name\", \"Aggregate Code\"]\n",
    "CountryGroupCodes\n",
    "\n",
    "#Drop the rows corresponding to aggregate country codes from existing dataframe to create a new country dataframe \n",
    "GreenhouseGasesCountryDf = GreenhouseGasesDf[GreenhouseGasesDf[\"Country Code\"].apply(lambda x: False if x in CountryGroupCodes[\"Aggregate Code\"].values else True)]"
   ]
  },
  {
   "cell_type": "markdown",
   "metadata": {},
   "source": [
    "## Data visualization"
   ]
  },
  {
   "cell_type": "code",
   "execution_count": 292,
   "metadata": {
    "scrolled": true
   },
   "outputs": [
    {
     "data": {
      "image/png": "[encoded data removed]",
      "text/plain": [
       "<Figure size 432x288 with 1 Axes>"
      ]
     },
     "metadata": {},
     "output_type": "display_data"
    }
   ],
   "source": [
    "#Sorted bar chart of 2012 greenhouse gases\n",
    "\n",
    "GreenhouseGasesCountryDf.sort_values(by=\"2012\", ascending=False)[[\"Country Name\", \"2012\"]]\n",
    "\n",
    "GreenhouseGasesTop20Emitters = GreenhouseGasesCountryDf.sort_values(by = \"2012\", ascending = False).iloc[:20,:]\n",
    "\n",
    "GreenhouseGasesTop20Emitters[[\"Country Name\", \"2012\"]].plot(x = \"Country Name\", kind=\"bar\")\n",
    "\n",
    "plt.ylabel(\"GreenHouse Emission [Kt CO2]\")\n",
    "plt.show()"
   ]
  },
  {
   "cell_type": "markdown",
   "metadata": {},
   "source": [
    "### NDCs\n",
    "\n",
    "This file gives data in the format: ISO Country Code,Country Name, Goal Year, Value (in MtCO2e), if goal is a range, and the type of goal."
   ]
  },
  {
   "cell_type": "code",
   "execution_count": 237,
   "metadata": {},
   "outputs": [],
   "source": [
    "NDCsDf_raw = pd.read_csv('data/wri/CW_NDC_quantification_April30.csv')\n",
    "NDCsDf = NDCsDf_raw.dropna(axis=0).drop(328) #328 is a mis-entry, as determined through inspection"
   ]
  },
  {
   "cell_type": "code",
   "execution_count": 238,
   "metadata": {},
   "outputs": [
    {
     "data": {
      "text/html": [
       "<div>\n",
       "<style scoped>\n",
       "    .dataframe tbody tr th:only-of-type {\n",
       "        vertical-align: middle;\n",
       "    }\n",
       "\n",
       "    .dataframe tbody tr th {\n",
       "        vertical-align: top;\n",
       "    }\n",
       "\n",
       "    .dataframe thead th {\n",
       "        text-align: right;\n",
       "    }\n",
       "</style>\n",
       "<table border=\"1\" class=\"dataframe\">\n",
       "  <thead>\n",
       "    <tr style=\"text-align: right;\">\n",
       "      <th></th>\n",
       "      <th>ISO</th>\n",
       "      <th>Country</th>\n",
       "      <th>Year</th>\n",
       "      <th>Value</th>\n",
       "      <th>Range</th>\n",
       "      <th>Label</th>\n",
       "    </tr>\n",
       "  </thead>\n",
       "  <tbody>\n",
       "    <tr>\n",
       "      <th>0</th>\n",
       "      <td>AFG</td>\n",
       "      <td>Afghanistan</td>\n",
       "      <td>2020</td>\n",
       "      <td>35.5</td>\n",
       "      <td>No</td>\n",
       "      <td>BAU</td>\n",
       "    </tr>\n",
       "    <tr>\n",
       "      <th>1</th>\n",
       "      <td>AFG</td>\n",
       "      <td>Afghanistan</td>\n",
       "      <td>2025</td>\n",
       "      <td>40.3</td>\n",
       "      <td>No</td>\n",
       "      <td>Conditional</td>\n",
       "    </tr>\n",
       "    <tr>\n",
       "      <th>2</th>\n",
       "      <td>AFG</td>\n",
       "      <td>Afghanistan</td>\n",
       "      <td>2025</td>\n",
       "      <td>41.7</td>\n",
       "      <td>No</td>\n",
       "      <td>BAU</td>\n",
       "    </tr>\n",
       "    <tr>\n",
       "      <th>3</th>\n",
       "      <td>AFG</td>\n",
       "      <td>Afghanistan</td>\n",
       "      <td>2030</td>\n",
       "      <td>42.7</td>\n",
       "      <td>No</td>\n",
       "      <td>Conditional</td>\n",
       "    </tr>\n",
       "    <tr>\n",
       "      <th>4</th>\n",
       "      <td>AFG</td>\n",
       "      <td>Afghanistan</td>\n",
       "      <td>2030</td>\n",
       "      <td>48.9</td>\n",
       "      <td>No</td>\n",
       "      <td>BAU</td>\n",
       "    </tr>\n",
       "  </tbody>\n",
       "</table>\n",
       "</div>"
      ],
      "text/plain": [
       "   ISO      Country  Year  Value Range        Label\n",
       "0  AFG  Afghanistan  2020   35.5    No          BAU\n",
       "1  AFG  Afghanistan  2025   40.3    No  Conditional\n",
       "2  AFG  Afghanistan  2025   41.7    No          BAU\n",
       "3  AFG  Afghanistan  2030   42.7    No  Conditional\n",
       "4  AFG  Afghanistan  2030   48.9    No          BAU"
      ]
     },
     "execution_count": 238,
     "metadata": {},
     "output_type": "execute_result"
    }
   ],
   "source": [
    "# Check data input\n",
    "NDCsDf.head(5)"
   ]
  },
  {
   "cell_type": "markdown",
   "metadata": {},
   "source": [
    "Some countries' NDCs are given as a range. For simplicity, this analysis will only examine the mean of that range."
   ]
  },
  {
   "cell_type": "code",
   "execution_count": 240,
   "metadata": {},
   "outputs": [],
   "source": [
    "rangedIndices = NDCsDf[NDCsDf['Range'] == 'Yes'].index\n",
    "\n",
    "# Note that each range is a pair\n",
    "# Is there a non-for loop method to do this?\n",
    "for i in range(0,len(rangedIndices)-1,2):    \n",
    "    NDCsDf.loc[rangedIndices[i],'Value'] = (\n",
    "        (NDCsDf['Value'][rangedIndices[i]] + NDCsDf['Value'][rangedIndices[i+1]])/2\n",
    "    )\n",
    "    \n",
    "# Drop the column 'Range', since it is not really needed anymore.\n",
    "NDCsDf = NDCsDf.drop(labels=rangedIndices[1::2], axis=0).drop(labels='Range', axis=1)"
   ]
  },
  {
   "cell_type": "markdown",
   "metadata": {},
   "source": [
    "From here on, NDCs in 2020 and 2030 can both be checked. It is probably best to examine two sets of scenarios for each country: a best case where the lower goal (usually conditional) is taken, and a worst case where the higher goal (usually uncondintional) is taken.\n",
    "\n",
    "Note that the EU has only submitted 2020 goals."
   ]
  },
  {
   "cell_type": "code",
   "execution_count": 283,
   "metadata": {
    "scrolled": true
   },
   "outputs": [],
   "source": [
    "NDCs_2020_min, NDCs_2020_max, NDCs_2030_min, NDCs_2030_max = [],[],[],[]\n",
    "\n",
    "for i in NDCsDf['ISO'].unique():\n",
    "    NDC_byCountry = NDCsDf[NDCsDf['ISO']==i]\n",
    "    NDCs_2020_min.append( NDC_byCountry[NDC_byCountry['Year']==2020]['Value'].min() )\n",
    "    NDCs_2020_max.append( NDC_byCountry[NDC_byCountry['Year']==2020]['Value'].min() )\n",
    "    NDCs_2030_min.append( NDC_byCountry[NDC_byCountry['Year']==2030]['Value'].max() )\n",
    "    NDCs_2030_max.append( NDC_byCountry[NDC_byCountry['Year']==2030]['Value'].max() )\n",
    "\n",
    "# Check that all of these lengths are the same.\n",
    "\n",
    "NDCs_clean = pd.DataFrame(columns=['ISO','Year','Type','Value'])"
   ]
  },
  {
   "cell_type": "code",
   "execution_count": 284,
   "metadata": {},
   "outputs": [
    {
     "data": {
      "text/plain": [
       "<bound method NDFrame.describe of Empty DataFrame\n",
       "Columns: [ISO, Year, Type, Value]\n",
       "Index: []>"
      ]
     },
     "execution_count": 284,
     "metadata": {},
     "output_type": "execute_result"
    }
   ],
   "source": [
    "NDCs_clean.describe"
   ]
  },
  {
   "cell_type": "code",
   "execution_count": 286,
   "metadata": {},
   "outputs": [
    {
     "data": {
      "text/html": [
       "<div>\n",
       "<style scoped>\n",
       "    .dataframe tbody tr th:only-of-type {\n",
       "        vertical-align: middle;\n",
       "    }\n",
       "\n",
       "    .dataframe tbody tr th {\n",
       "        vertical-align: top;\n",
       "    }\n",
       "\n",
       "    .dataframe thead th {\n",
       "        text-align: right;\n",
       "    }\n",
       "</style>\n",
       "<table border=\"1\" class=\"dataframe\">\n",
       "  <thead>\n",
       "    <tr style=\"text-align: right;\">\n",
       "      <th></th>\n",
       "      <th>ISO</th>\n",
       "      <th>Year</th>\n",
       "      <th>Type</th>\n",
       "      <th>Value</th>\n",
       "    </tr>\n",
       "  </thead>\n",
       "  <tbody>\n",
       "  </tbody>\n",
       "</table>\n",
       "</div>"
      ],
      "text/plain": [
       "Empty DataFrame\n",
       "Columns: [ISO, Year, Type, Value]\n",
       "Index: []"
      ]
     },
     "execution_count": 286,
     "metadata": {},
     "output_type": "execute_result"
    }
   ],
   "source": [
    "NDCs_clean.add([NDCsDf['ISO'].unique(),2020,'min',NDCs_2020_min])"
   ]
  },
  {
   "cell_type": "code",
   "execution_count": 298,
   "metadata": {},
   "outputs": [
    {
     "data": {
      "text/html": [
       "<div>\n",
       "<style scoped>\n",
       "    .dataframe tbody tr th:only-of-type {\n",
       "        vertical-align: middle;\n",
       "    }\n",
       "\n",
       "    .dataframe tbody tr th {\n",
       "        vertical-align: top;\n",
       "    }\n",
       "\n",
       "    .dataframe thead th {\n",
       "        text-align: right;\n",
       "    }\n",
       "</style>\n",
       "<table border=\"1\" class=\"dataframe\">\n",
       "  <thead>\n",
       "    <tr style=\"text-align: right;\">\n",
       "      <th></th>\n",
       "      <th>ISO</th>\n",
       "      <th>Country</th>\n",
       "      <th>Year</th>\n",
       "      <th>Value</th>\n",
       "      <th>Range</th>\n",
       "      <th>Label</th>\n",
       "    </tr>\n",
       "  </thead>\n",
       "  <tbody>\n",
       "    <tr>\n",
       "      <th>460</th>\n",
       "      <td>USA</td>\n",
       "      <td>United States of America</td>\n",
       "      <td>2020</td>\n",
       "      <td>5463.3</td>\n",
       "      <td>No</td>\n",
       "      <td>Unconditional</td>\n",
       "    </tr>\n",
       "    <tr>\n",
       "      <th>461</th>\n",
       "      <td>USA</td>\n",
       "      <td>United States of America</td>\n",
       "      <td>2025</td>\n",
       "      <td>4870.9</td>\n",
       "      <td>Yes</td>\n",
       "      <td>Unconditional</td>\n",
       "    </tr>\n",
       "    <tr>\n",
       "      <th>462</th>\n",
       "      <td>USA</td>\n",
       "      <td>United States of America</td>\n",
       "      <td>2025</td>\n",
       "      <td>4739.3</td>\n",
       "      <td>Yes</td>\n",
       "      <td>Unconditional</td>\n",
       "    </tr>\n",
       "  </tbody>\n",
       "</table>\n",
       "</div>"
      ],
      "text/plain": [
       "     ISO                   Country  Year   Value Range           Label\n",
       "460  USA  United States of America  2020  5463.3    No  Unconditional \n",
       "461  USA  United States of America  2025  4870.9   Yes  Unconditional \n",
       "462  USA  United States of America  2025  4739.3   Yes  Unconditional "
      ]
     },
     "execution_count": 298,
     "metadata": {},
     "output_type": "execute_result"
    }
   ],
   "source": [
    "NDCsDf_raw[ NDCsDf_raw['Country']=='United States of America']"
   ]
  }
 ],
 "metadata": {
  "colab": {
   "collapsed_sections": [],
   "include_colab_link": true,
   "name": "ghg_analytics.ipynb",
   "provenance": [],
   "version": "0.3.2"
  },
  "kernelspec": {
   "display_name": "Python 3",
   "language": "python",
   "name": "python3"
  },
  "language_info": {
   "codemirror_mode": {
    "name": "ipython",
    "version": 3
   },
   "file_extension": ".py",
   "mimetype": "text/x-python",
   "name": "python",
   "nbconvert_exporter": "python",
   "pygments_lexer": "ipython3",
   "version": "3.7.0"
  }
 },
 "nbformat": 4,
 "nbformat_minor": 1
}
